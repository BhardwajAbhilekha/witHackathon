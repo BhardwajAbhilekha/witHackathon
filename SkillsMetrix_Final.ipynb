{
    "cells": [
        {
            "metadata": {},
            "cell_type": "markdown",
            "source": "# Importing Libraries"
        },
        {
            "metadata": {},
            "cell_type": "code",
            "source": "import nltk \n\n\nfrom nltk import FreqDist\nfrom nltk.corpus import nps_chat\nfrom nltk import ConditionalFreqDist\nfrom nltk.corpus import PlaintextCorpusReader\nfrom nltk.tokenize import word_tokenize,sent_tokenize\n\nimport pandas as pd\nimport fuzzywuzzy\nfrom fuzzywuzzy import fuzz\nfrom fuzzywuzzy import process\n\nimport os\nimport re",
            "execution_count": 736,
            "outputs": []
        },
        {
            "metadata": {},
            "cell_type": "markdown",
            "source": "# Getting Inputs from User"
        },
        {
            "metadata": {},
            "cell_type": "code",
            "source": "Domain=str(input(\"Enter Desired Domain:\"))",
            "execution_count": 2346,
            "outputs": [
                {
                    "name": "stdin",
                    "output_type": "stream",
                    "text": "Enter Desired Domain: Media / Entertainment / Internet\n"
                }
            ]
        },
        {
            "metadata": {},
            "cell_type": "code",
            "source": "JobTitle=str(input(\"Enter Desired Job Title:\"))",
            "execution_count": 2472,
            "outputs": [
                {
                    "name": "stdin",
                    "output_type": "stream",
                    "text": "Enter Desired Job Title: Team Lead\n"
                }
            ]
        },
        {
            "metadata": {},
            "cell_type": "code",
            "source": "Skills=str(input(\"Enter your Skills:\"))",
            "execution_count": 2246,
            "outputs": [
                {
                    "name": "stdin",
                    "output_type": "stream",
                    "text": "Enter your Skills: ITES\n"
                }
            ]
        },
        {
            "metadata": {},
            "cell_type": "code",
            "source": "ToolsUsed=str(input(\"Enter the tools you had used before:\"))",
            "execution_count": 752,
            "outputs": [
                {
                    "name": "stdin",
                    "output_type": "stream",
                    "text": "Enter the tools you had used before: R, Python, SPSS\n"
                }
            ]
        },
        {
            "metadata": {},
            "cell_type": "code",
            "source": "Location=str(input(\"Enter Peferred Location:\"))",
            "execution_count": 758,
            "outputs": [
                {
                    "name": "stdin",
                    "output_type": "stream",
                    "text": "Enter Peferred Location: Mumbai\n"
                }
            ]
        },
        {
            "metadata": {},
            "cell_type": "markdown",
            "source": "## Reading base file"
        },
        {
            "metadata": {},
            "cell_type": "code",
            "source": "def read_file(filename):\n    with open(filename,'r',encoding='latin-1') as file:\n        text=file.read()\n    return text",
            "execution_count": 764,
            "outputs": []
        },
        {
            "metadata": {},
            "cell_type": "code",
            "source": "BaseData=read_file(\"naukri_com-job_sample_text.txt\")",
            "execution_count": 1351,
            "outputs": []
        },
        {
            "metadata": {},
            "cell_type": "code",
            "source": "Domain_Skills=pd.read_csv(\"Naukri-Domain&Skillset.csv\")",
            "execution_count": 1611,
            "outputs": []
        },
        {
            "metadata": {},
            "cell_type": "code",
            "source": "Test_data_n=text.split(\"\\n\")\nprint(\"Number of Jobs listed:\",len(Test_data_n))",
            "execution_count": 2066,
            "outputs": [
                {
                    "name": "stdout",
                    "output_type": "stream",
                    "text": "Number of Jobs listed: 21998\n"
                }
            ]
        },
        {
            "metadata": {},
            "cell_type": "code",
            "source": "Occ_Check=text.split(\"\\t\")\nOccurances=FreqDist(Occ_Check)",
            "execution_count": 2447,
            "outputs": []
        },
        {
            "metadata": {},
            "cell_type": "code",
            "source": "print(\"Number of opening for\",JobTitle,Occurances[JobTitle])",
            "execution_count": 2478,
            "outputs": [
                {
                    "name": "stdout",
                    "output_type": "stream",
                    "text": "Numner of opening for Team Lead 6\n"
                }
            ]
        },
        {
            "metadata": {},
            "cell_type": "code",
            "source": "print(\"Number of opening for your Skills\",Skills,Occurances[Skills])",
            "execution_count": 2466,
            "outputs": [
                {
                    "name": "stdout",
                    "output_type": "stream",
                    "text": "Number of opening for your Skills ITES 1640\n"
                }
            ]
        },
        {
            "metadata": {},
            "cell_type": "code",
            "source": "print(\"Number of opening in your desired Location\",Location,Occurances[Location])",
            "execution_count": 2483,
            "outputs": [
                {
                    "name": "stdout",
                    "output_type": "stream",
                    "text": "Number of opening in your desired Location Mumbai 2348\n"
                }
            ]
        },
        {
            "metadata": {},
            "cell_type": "code",
            "source": "MandateSkills_Filter=Domain_Skills[Domain_Skills['industry']==Domain]\nMandateSkills=MandateSkills_Filter['skills'].unique()",
            "execution_count": 2495,
            "outputs": []
        },
        {
            "metadata": {},
            "cell_type": "code",
            "source": "fuzz.token_sort_ratio(MandateSkills,Skills)",
            "execution_count": 2505,
            "outputs": [
                {
                    "data": {
                        "text/plain": "3"
                    },
                    "execution_count": 2505,
                    "metadata": {},
                    "output_type": "execute_result"
                }
            ]
        },
        {
            "metadata": {},
            "cell_type": "markdown",
            "source": "# Cosine Similarity for enhancing the match"
        },
        {
            "metadata": {},
            "cell_type": "code",
            "source": "import pandas as pd\n\npd.set_option('display.max_colwidth', -1)\nNaukri =  pd.read_csv('Naukri-Domain&Skillset.csv')\nprint('The shape: %d x %d' % Naukri.shape)\nNaukri.head()\n",
            "execution_count": 1245,
            "outputs": [
                {
                    "name": "stdout",
                    "output_type": "stream",
                    "text": "The shape: 21996 x 5\n"
                },
                {
                    "data": {
                        "text/html": "<div>\n<style scoped>\n    .dataframe tbody tr th:only-of-type {\n        vertical-align: middle;\n    }\n\n    .dataframe tbody tr th {\n        vertical-align: top;\n    }\n\n    .dataframe thead th {\n        text-align: right;\n    }\n</style>\n<table border=\"1\" class=\"dataframe\">\n  <thead>\n    <tr style=\"text-align: right;\">\n      <th></th>\n      <th>company</th>\n      <th>experience</th>\n      <th>industry</th>\n      <th>joblocation_address</th>\n      <th>skills</th>\n    </tr>\n  </thead>\n  <tbody>\n    <tr>\n      <th>0</th>\n      <td>MM Media Pvt Ltd</td>\n      <td>0 - 1 yrs</td>\n      <td>Media / Entertainment / Internet</td>\n      <td>Chennai</td>\n      <td>ITES</td>\n    </tr>\n    <tr>\n      <th>1</th>\n      <td>find live infotech</td>\n      <td>0 - 0 yrs</td>\n      <td>Advertising / PR / MR / Event Management</td>\n      <td>Chennai</td>\n      <td>Marketing</td>\n    </tr>\n    <tr>\n      <th>2</th>\n      <td>Softtech Career Infosystem Pvt. Ltd</td>\n      <td>4 - 8 yrs</td>\n      <td>IT-Software / Software Services</td>\n      <td>Bengaluru</td>\n      <td>IT Software - Application Programming</td>\n    </tr>\n    <tr>\n      <th>3</th>\n      <td>Onboard HRServices LLP</td>\n      <td>11 - 15 yrs</td>\n      <td>Banking / Financial Services / Broking</td>\n      <td>Mumbai, Bengaluru, Kolkata, Chennai, Coimbatore, Tamilnadu</td>\n      <td>Accounts</td>\n    </tr>\n    <tr>\n      <th>4</th>\n      <td>Spire Technologies and Solutions Pvt. Ltd.</td>\n      <td>6 - 8 yrs</td>\n      <td>IT-Software / Software Services</td>\n      <td>Bengaluru</td>\n      <td>IT Software - Application Programming</td>\n    </tr>\n  </tbody>\n</table>\n</div>",
                        "text/plain": "                                      company   experience  \\\n0  MM Media Pvt Ltd                            0 - 1 yrs     \n1  find live infotech                          0 - 0 yrs     \n2  Softtech Career Infosystem Pvt. Ltd         4 - 8 yrs     \n3  Onboard HRServices LLP                      11 - 15 yrs   \n4  Spire Technologies and Solutions Pvt. Ltd.  6 - 8 yrs     \n\n                                   industry  \\\n0  Media / Entertainment / Internet           \n1  Advertising / PR / MR / Event Management   \n2  IT-Software / Software Services            \n3  Banking / Financial Services / Broking     \n4  IT-Software / Software Services            \n\n                                          joblocation_address  \\\n0  Chennai                                                      \n1  Chennai                                                      \n2  Bengaluru                                                    \n3  Mumbai, Bengaluru, Kolkata, Chennai, Coimbatore, Tamilnadu   \n4  Bengaluru                                                    \n\n                                  skills  \n0  ITES                                   \n1  Marketing                              \n2  IT Software - Application Programming  \n3  Accounts                               \n4  IT Software - Application Programming  "
                    },
                    "execution_count": 1245,
                    "metadata": {},
                    "output_type": "execute_result"
                }
            ]
        },
        {
            "metadata": {},
            "cell_type": "code",
            "source": "import re\n\ndef ngrams(string, n=4):\n    string = re.sub(r'[,-./]|\\sBD',r'', string)\n    ngrams = zip(*[string[i:] for i in range(n)])\n    return [''.join(ngram) for ngram in ngrams]\n\nprint('All 3-grams IT Software:')\nngrams('IT Software')\n",
            "execution_count": 1306,
            "outputs": [
                {
                    "name": "stdout",
                    "output_type": "stream",
                    "text": "All 3-grams IT Software:\n"
                },
                {
                    "data": {
                        "text/plain": "['IT S', 'T So', ' Sof', 'Soft', 'oftw', 'ftwa', 'twar', 'ware']"
                    },
                    "execution_count": 1306,
                    "metadata": {},
                    "output_type": "execute_result"
                }
            ]
        },
        {
            "metadata": {},
            "cell_type": "code",
            "source": "Naukri=Naukri[Naukri['skills'].notnull()]",
            "execution_count": 1278,
            "outputs": []
        },
        {
            "metadata": {},
            "cell_type": "code",
            "source": "from sklearn.feature_extraction.text import TfidfVectorizer\n\nSkills = Naukri['skills']\nvectorizer = TfidfVectorizer(min_df=1, analyzer=ngrams)\ntf_idf_matrix = vectorizer.fit_transform(Skills)\n",
            "execution_count": 1282,
            "outputs": []
        },
        {
            "metadata": {},
            "cell_type": "code",
            "source": "print(tf_idf_matrix[0])\n\n# Check if this makes sense:\n\nngrams('Data')\n",
            "execution_count": 1311,
            "outputs": [
                {
                    "name": "stdout",
                    "output_type": "stream",
                    "text": "  (0, 67)\t0.7071067811865475\n  (0, 93)\t0.7071067811865475\n"
                },
                {
                    "data": {
                        "text/plain": "['Data']"
                    },
                    "execution_count": 1311,
                    "metadata": {},
                    "output_type": "execute_result"
                }
            ]
        },
        {
            "metadata": {},
            "cell_type": "markdown",
            "source": "# Cosine Similarity"
        },
        {
            "metadata": {},
            "cell_type": "code",
            "source": "Domain_Skills['industry'].unique()",
            "execution_count": 2577,
            "outputs": [
                {
                    "data": {
                        "text/plain": "array(['Media / Entertainment / Internet',\n       'Advertising / PR / MR / Event Management',\n       'IT-Software / Software Services',\n       'Banking / Financial Services / Broking',\n       'Aviation / Aerospace Firms',\n       'Industrial Products / Heavy Machinery', 'FMCG / Foods / Beverage',\n       'Recruitment / Staffing', 'Internet / Ecommerce',\n       'Travel / Hotels / Restaurants / Airlines / Railways',\n       'BPO / Call Centre / ITES', 'Pharma / Biotech / Clinical Research',\n       'Real Estate / Property', 'Insurance', 'Facility Management',\n       'Publishing', 'Education / Teaching / Training',\n       'Retail / Wholesale',\n       'Automobile / Auto Anciliary / Auto Components',\n       'Chemicals / PetroChemical / Plastic / Rubber',\n       'Government / Defence', 'Accounting / Finance',\n       'Textiles / Garments / Accessories',\n       'Semiconductors / Electronics', 'Telecom/ISP',\n       'Medical / Healthcare / Hospitals', 'Legal',\n       'Courier / Transportation / Freight / Warehousing',\n       'NGO / Social Services / Regulators / Industry Associations',\n       'Other', 'Architecture / Interior Design',\n       'KPO / Research / Analytics',\n       'Construction / Engineering / Cement / Metals',\n       'Office Equipment / Automation',\n       'Consumer Electronics / Appliances / Durables', 'Iron and Steel',\n       'Strategy / Management Consulting Firms',\n       'Oil and Gas / Energy / Power / Infrastructure',\n       'IT-Hardware & Networking', 'Wellness / Fitness / Sports / Beauty',\n       'Agriculture / Dairy', 'Electricals / Switchgears',\n       'Security / Law Enforcement', 'Gems / Jewellery',\n       'Ceramics / Sanitary ware', 'Fresher / Trainee / Entry Level',\n       'Food Processing', 'Printing / Packaging', 'Brewery / Distillery',\n       'Telecom/ISP /', 'Export / Import',\n       'Heat Ventilation / Air Conditioning',\n       'Wellness / Fitness / Sports',\n       'Water Treatment / Waste Management', 'Shipping / Marine',\n       'Glass / Glassware', 'Animation / Gaming',\n       'Fertilizers / Pesticides', 'Pulp and Paper', 'Tyres', 'Leather',\n       'Broadcasting', nan, 'Medical Devices / Equipments'], dtype=object)"
                    },
                    "execution_count": 2577,
                    "metadata": {},
                    "output_type": "execute_result"
                }
            ]
        },
        {
            "metadata": {},
            "cell_type": "code",
            "source": "Domain_Skills['skills'].unique()",
            "execution_count": 2586,
            "outputs": [
                {
                    "data": {
                        "text/plain": "array(['ITES', 'Marketing', 'IT Software - Application Programming',\n       'Accounts', 'Production', 'Sales', 'IT Software - Other',\n       'Executive Assistant', 'IT Software - Mobile',\n       'Engineering Design', 'Financial Services', 'Hotels',\n       'IT Software - QA & Testing', 'HR', 'Supply Chain',\n       'IT Software - Network Administration', 'Architecture', 'Legal',\n       'Site Engineering', 'Journalism', nan, 'IT Software - DBA',\n       'Strategy', 'Medical', 'Design', 'Defence Forces',\n       'IT Software - Mainframe', 'IT Software - Telecom Software',\n       'IT Software - Embedded', 'IT Software - Middleware', 'Teaching',\n       'IT Software - System Programming',\n       'IT Software - Client/Server Programming', 'Travel',\n       'IT Software - eCommerce', 'TV', 'Fashion Designing',\n       'IT Software - ERP', 'IT Hardware',\n       'Analytics & Business Intelligence', 'Beauty/Fitness/Spa Services',\n       'Top Management', 'Export', 'IT Software - Systems', 'Packaging',\n       'Shipping'], dtype=object)"
                    },
                    "execution_count": 2586,
                    "metadata": {},
                    "output_type": "execute_result"
                }
            ]
        },
        {
            "metadata": {},
            "cell_type": "code",
            "source": "",
            "execution_count": null,
            "outputs": []
        }
    ],
    "metadata": {
        "kernelspec": {
            "name": "python3",
            "display_name": "Python 3.6",
            "language": "python"
        },
        "language_info": {
            "name": "python",
            "version": "3.6.9",
            "mimetype": "text/x-python",
            "codemirror_mode": {
                "name": "ipython",
                "version": 3
            },
            "pygments_lexer": "ipython3",
            "nbconvert_exporter": "python",
            "file_extension": ".py"
        }
    },
    "nbformat": 4,
    "nbformat_minor": 2
}