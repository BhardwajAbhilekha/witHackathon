{
    "cells": [
        {
            "cell_type": "markdown",
            "metadata": {},
            "source": "# Importing Libraries"
        },
        {
            "cell_type": "code",
            "execution_count": 2,
            "metadata": {},
            "outputs": [],
            "source": "import nltk \nfrom nltk import FreqDist\nfrom nltk.corpus import nps_chat\nfrom nltk import ConditionalFreqDist\nfrom nltk.corpus import PlaintextCorpusReader\nfrom nltk.tokenize import word_tokenize,sent_tokenize\nimport os\nimport re\n"
        },
        {
            "cell_type": "code",
            "execution_count": null,
            "metadata": {},
            "outputs": [],
            "source": "# Getting Inputs from User"
        },
        {
            "cell_type": "code",
            "execution_count": 1675,
            "metadata": {},
            "outputs": [
                {
                    "name": "stdin",
                    "output_type": "stream",
                    "text": "Enter Desired Domain: Internet / Ecommerce\n"
                }
            ],
            "source": "Domain=str(input(\"Enter Desired Domain:\"))"
        },
        {
            "cell_type": "code",
            "execution_count": 1,
            "metadata": {},
            "outputs": [
                {
                    "name": "stdout",
                    "output_type": "stream",
                    "text": "Waiting for a Spark session to start...\nSpark Initialization Done! ApplicationId = app-20200605181148-0000\nKERNEL_ID = 029d109c-3d76-467a-b248-560527d2a2cf\nEnter Desired Job Title:Data Scientist\n"
                }
            ],
            "source": "JobTitle=str(input(\"Enter Desired Job Title:\"))"
        },
        {
            "cell_type": "code",
            "execution_count": 2,
            "metadata": {},
            "outputs": [
                {
                    "name": "stdout",
                    "output_type": "stream",
                    "text": "Enter your Skills:R, Tableau\n"
                }
            ],
            "source": "Skills=str(input(\"Enter your Skills:\"))"
        },
        {
            "cell_type": "code",
            "execution_count": 3,
            "metadata": {},
            "outputs": [
                {
                    "name": "stdout",
                    "output_type": "stream",
                    "text": "Enter the tools you had used before:R, Tableau\n"
                }
            ],
            "source": "ToolsUsed=str(input(\"Enter the tools you had used before:\"))"
        },
        {
            "cell_type": "code",
            "execution_count": 4,
            "metadata": {},
            "outputs": [
                {
                    "name": "stdout",
                    "output_type": "stream",
                    "text": "Enter Peferred Location:Bangalore\n"
                }
            ],
            "source": "Location=str(input(\"Enter Peferred Location:\"))"
        },
        {
            "cell_type": "markdown",
            "metadata": {},
            "source": "## Reading base file"
        },
        {
            "cell_type": "code",
            "execution_count": 5,
            "metadata": {},
            "outputs": [],
            "source": "def read_file(filename):\n    with open(filename,'r',encoding='latin-1') as file:\n        text=file.read()\n    return text"
        },
        {
            "cell_type": "code",
            "execution_count": 3,
            "metadata": {},
            "outputs": [
                {
                    "ename": "NameError",
                    "evalue": "name 'read_file' is not defined",
                    "output_type": "error",
                    "traceback": [
                        "\u001b[0;31m---------------------------------------------------------------------------\u001b[0m",
                        "\u001b[0;31mNameError\u001b[0m                                 Traceback (most recent call last)",
                        "\u001b[0;32m<ipython-input-3-c5ee2223aa9b>\u001b[0m in \u001b[0;36m<module>\u001b[0;34m()\u001b[0m\n\u001b[0;32m----> 1\u001b[0;31m \u001b[0mBaseData\u001b[0m\u001b[0;34m=\u001b[0m\u001b[0mread_file\u001b[0m\u001b[0;34m(\u001b[0m\u001b[0;34m\"naukri_com-job_sample_text.txt\"\u001b[0m\u001b[0;34m)\u001b[0m\u001b[0;34m\u001b[0m\u001b[0;34m\u001b[0m\u001b[0m\n\u001b[0m",
                        "\u001b[0;31mNameError\u001b[0m: name 'read_file' is not defined"
                    ]
                }
            ],
            "source": "BaseData=read_file(\"naukri_com-job_sample_text.txt\")\n"
        },
        {
            "cell_type": "code",
            "execution_count": null,
            "metadata": {},
            "outputs": [],
            "source": "Domain_Skills=pd.read_csv(\"Naukri-Domain&Skillset.csv\")"
        },
        {
            "cell_type": "code",
            "execution_count": null,
            "metadata": {},
            "outputs": [],
            "source": "Domain_Skills.head()"
        },
        {
            "cell_type": "code",
            "execution_count": null,
            "metadata": {},
            "outputs": [],
            "source": "Domain"
        },
        {
            "cell_type": "code",
            "execution_count": null,
            "metadata": {},
            "outputs": [],
            "source": "Skills"
        },
        {
            "cell_type": "code",
            "execution_count": null,
            "metadata": {},
            "outputs": [],
            "source": "Domain_Skills[Domain_Skills['skills']==Skills]"
        },
        {
            "cell_type": "code",
            "execution_count": 773,
            "metadata": {},
            "outputs": [
                {
                    "data": {
                        "text/plain": "52118057"
                    },
                    "execution_count": 773,
                    "metadata": {},
                    "output_type": "execute_result"
                }
            ],
            "source": ""
        },
        {
            "cell_type": "code",
            "execution_count": 1558,
            "metadata": {},
            "outputs": [
                {
                    "data": {
                        "text/html": "<div>\n<style scoped>\n    .dataframe tbody tr th:only-of-type {\n        vertical-align: middle;\n    }\n\n    .dataframe tbody tr th {\n        vertical-align: top;\n    }\n\n    .dataframe thead th {\n        text-align: right;\n    }\n</style>\n<table border=\"1\" class=\"dataframe\">\n  <thead>\n    <tr style=\"text-align: right;\">\n      <th></th>\n      <th>company</th>\n      <th>experience</th>\n      <th>industry</th>\n      <th>joblocation_address</th>\n      <th>skills</th>\n    </tr>\n  </thead>\n  <tbody>\n  </tbody>\n</table>\n</div>",
                        "text/plain": "Empty DataFrame\nColumns: [company, experience, industry, joblocation_address, skills]\nIndex: []"
                    },
                    "execution_count": 1558,
                    "metadata": {},
                    "output_type": "execute_result"
                }
            ],
            "source": "Refined_DomainSkills"
        },
        {
            "cell_type": "code",
            "execution_count": 835,
            "metadata": {},
            "outputs": [
                {
                    "data": {
                        "text/plain": "21998"
                    },
                    "execution_count": 835,
                    "metadata": {},
                    "output_type": "execute_result"
                }
            ],
            "source": "Test_data_n=text.split(\"\\n\")\nlen(Test_data_n)"
        },
        {
            "cell_type": "code",
            "execution_count": 985,
            "metadata": {},
            "outputs": [
                {
                    "data": {
                        "text/plain": "1166"
                    },
                    "execution_count": 985,
                    "metadata": {},
                    "output_type": "execute_result"
                }
            ],
            "source": "text.find('Data')"
        },
        {
            "cell_type": "code",
            "execution_count": 1018,
            "metadata": {},
            "outputs": [
                {
                    "data": {
                        "text/plain": "1"
                    },
                    "execution_count": 1018,
                    "metadata": {},
                    "output_type": "execute_result"
                }
            ],
            "source": "text.find('o')"
        },
        {
            "cell_type": "code",
            "execution_count": 855,
            "metadata": {},
            "outputs": [
                {
                    "data": {
                        "text/plain": "6975579"
                    },
                    "execution_count": 855,
                    "metadata": {},
                    "output_type": "execute_result"
                }
            ],
            "source": "Test_data_Space=text.split(\" \")\nlen(Test_data_Space)"
        },
        {
            "cell_type": "code",
            "execution_count": 859,
            "metadata": {},
            "outputs": [
                {
                    "data": {
                        "text/plain": "285962"
                    },
                    "execution_count": 859,
                    "metadata": {},
                    "output_type": "execute_result"
                }
            ],
            "source": "Test_data_tab=text.split(\"\\t\")\nlen(Test_data_tab)"
        },
        {
            "cell_type": "code",
            "execution_count": 1010,
            "metadata": {},
            "outputs": [
                {
                    "data": {
                        "text/plain": "[]"
                    },
                    "execution_count": 1010,
                    "metadata": {},
                    "output_type": "execute_result"
                }
            ],
            "source": "[w for w in text if len(w)>10]\n\n#words_with_end_ed=[w for w in Skills_Check if re.search('$Learning$',w)]"
        },
        {
            "cell_type": "code",
            "execution_count": 885,
            "metadata": {},
            "outputs": [
                {
                    "data": {
                        "text/plain": "['Media',\n 'Pvt',\n 'B.Tech/B.E.',\n 'Any',\n 'Specialization',\n 'Postgraduate',\n 'Any',\n 'Specialization,',\n 'Post',\n 'Graduation',\n 'Not',\n 'Required\"\\t0',\n 'Entertainment',\n 'Internet\\t\"Job',\n 'Description',\n 'Send',\n 'Jobs',\n 'Qualifications:',\n 'To',\n 'Graduation',\n 'Any',\n 'Skill:',\n 'Basic',\n 'Computer',\n 'Knowledge',\n 'Job',\n 'Requirement',\n 'System',\n 'Laptop',\n 'Type',\n 'Full',\n 'Time',\n 'Part',\n 'Languages',\n 'Tamil',\n 'English.',\n 'Experience',\n 'Freshers',\n 'Experience',\n 'Selection',\n 'Process:',\n 'Easy',\n 'Selection',\n 'Process,So',\n 'What',\n 'Are',\n 'You',\n 'Waiting',\n 'For?',\n 'Apply',\n 'Now',\n 'Grab',\n 'Best',\n 'Opportunity',\n 'To',\n 'Make',\n 'Your',\n 'Carrier',\n 'To',\n 'Improve',\n 'Your',\n 'Earing',\n 'Skills.',\n 'More',\n 'Mr',\n 'Hari',\n 'P.A',\n 'Industry:',\n 'Media',\n 'Entertainment',\n 'Internet',\n 'Functional',\n 'Area:',\n 'Customer',\n 'Service',\n 'Operations',\n 'Role',\n 'Category:Other',\n 'Role:Fresher',\n 'Keyskills',\n 'English',\n 'Typing',\n 'Part',\n 'Time',\n 'Data',\n 'Entry',\n 'Selection',\n 'Process',\n 'Desired',\n 'Candidate',\n 'Profile',\n 'Education-',\n 'B.Tech/B.E.',\n 'Any',\n 'Specialization',\n 'Postgraduate',\n 'Any',\n 'Specialization,',\n 'Post',\n 'Graduation',\n 'Not',\n 'Required',\n 'Please',\n 'Job',\n 'Company',\n 'Profile:',\n 'Media',\n 'Pvt',\n 'Ltd',\n 'Mass',\n 'Media',\n 'International',\n 'Find',\n 'Live',\n 'Info',\n 'Pvt',\n 'Ltd',\n 'Find',\n 'Chennai,',\n 'India.',\n 'With',\n 'We',\n 'Specialists',\n 'Under',\n 'Top',\n 'Management',\n 'More',\n 'Download',\n 'Photo',\n 'View',\n 'Contact',\n 'Details\"\\t2.11E+11\\tChennai\\tWalkin',\n 'Data',\n 'Entry',\n 'Operator',\n 'Shift)\\t\\t\"1,50,000',\n 'P.A\"\\t2016-05-21',\n 'B.Tech/B.E.',\n 'Any',\n 'Specialization',\n 'Any',\n 'Specialization\\t0',\n 'Event',\n 'Management\\t\"Job',\n 'Description',\n 'Send',\n 'Jobs',\n 'Qualifications:',\n 'To',\n 'Graduation',\n 'Any',\n 'Skill:',\n 'Basic',\n 'Computer',\n 'Knowledge',\n 'Job',\n 'Requirement',\n 'System',\n 'Laptop',\n 'Type',\n 'Full',\n 'Time',\n 'Part',\n 'Languages',\n 'Tamil',\n 'English.',\n 'Experience',\n 'Freshers',\n 'Experience',\n 'Selection',\n 'Process:',\n 'Easy',\n 'Selection',\n 'Process,So',\n 'What',\n 'Are',\n 'You',\n 'Waiting',\n 'For?',\n 'Apply',\n 'Now',\n 'Grab',\n 'Best',\n 'Opportunity',\n 'To',\n 'Make',\n 'Your',\n 'Carrier',\n 'To',\n 'Improve',\n 'Your',\n 'Earing',\n 'Skills.',\n 'Chennai',\n 'Peoples',\n 'Only',\n 'Contact',\n 'Deepika',\n 'Team',\n 'Leader',\n 'P.A.',\n 'Industry:',\n 'Advertising',\n 'Event',\n 'Management',\n 'Functional',\n 'Area:',\n 'Marketing',\n 'Advertising',\n 'Media',\n 'Planning',\n 'Role',\n 'Category:Online/Digital',\n 'Marketing',\n 'Role:Search',\n 'Engine',\n 'Specialist',\n 'Keyskills',\n 'Data',\n 'Entry',\n 'Desired',\n 'Candidate',\n 'Profile',\n 'Education-',\n 'B.Tech/B.E.',\n 'Any',\n 'Specialization',\n 'Any',\n 'Specialization',\n 'Please',\n 'Job',\n 'Company',\n 'Profile:',\n 'Find',\n 'Live',\n 'Infotech',\n 'India.',\n 'With',\n 'Find',\n 'Download',\n 'Photo',\n 'View',\n 'Contact',\n 'Details\"\\t2.11E+11\\tChennai\\tWork',\n 'Based',\n 'Onhome',\n 'Based',\n 'Part',\n 'Time.\\t60\\t\"1,50,000',\n 'P.A.',\n 'Career',\n 'Infosystem',\n 'Pvt.',\n 'Any',\n 'Graduate',\n 'Any',\n 'Specialization',\n 'Postgraduate',\n 'Doctorate:Doctorate',\n 'Not',\n 'Required\\t4',\n 'Software',\n 'Services\\t\"Job',\n 'Description',\n 'Send',\n 'Jobs',\n 'Analyzes',\n 'Provides',\n 'Acts',\n 'Verifies',\n 'Oversees',\n 'Develops',\n 'Leads',\n 'Assures',\n 'Additional',\n 'Job',\n 'Details:',\n 'Looking',\n 'Salary:',\n 'Not',\n 'Disclosed',\n 'Recruiter',\n 'Industry:',\n 'Software',\n 'Services',\n 'Functional',\n 'Area:',\n 'Software',\n 'Application',\n 'Programming',\n 'Maintenance',\n 'Role',\n 'Category:Programming',\n 'Design',\n 'Role:Software',\n 'Developer',\n 'Keyskills',\n 'Loader',\n 'Development',\n 'Procedures',\n 'Application',\n 'Design',\n 'Test',\n 'Data',\n 'Application',\n 'Development',\n 'Desired',\n 'Candidate',\n 'Profile',\n 'Education-',\n 'Any',\n 'Graduate',\n 'Any',\n 'Specialization',\n 'Postgraduate',\n 'Doctorate:Doctorate',\n 'Not',\n 'Required',\n 'Company',\n 'Profile:',\n 'Softtech',\n 'Career',\n 'Infosystem',\n 'Pvt.',\n 'Ltd',\n 'Leading',\n 'Softtech',\n 'Career',\n 'Infosystem',\n 'Pvt.',\n 'Ltd',\n 'Download',\n 'Photo',\n 'View',\n 'Contact',\n 'Developer',\n 'Disclosed',\n 'Recruiter\\t2016-10-13',\n 'Software',\n 'Application',\n 'Any',\n 'Graduate',\n 'Any',\n 'Specialization',\n 'Doctorate:Doctorate',\n 'Not',\n 'Required\\t11',\n 'Financial',\n 'Services',\n 'Broking\\t\"Job',\n 'Description',\n 'Send',\n 'Jobs',\n 'Involved',\n 'Will',\n 'Advise',\n 'Indirect',\n 'Structured',\n 'Ensure',\n 'Strict',\n 'Compliance',\n 'Central',\n 'Excise',\n 'Service',\n 'Tax',\n 'Laws',\n 'Attending',\n 'Hearings',\n 'Tribunal.',\n 'Develop',\n 'Internal',\n 'Systems',\n 'Central',\n 'Advice',\n 'Company',\n 'Central',\n 'Excise',\n 'Service',\n 'Tax',\n 'Export',\n 'Preparation',\n 'Realization',\n 'Liaison',\n 'Central',\n 'Excise',\n 'Department',\n 'Formalities',\n 'Advising',\n 'Tax',\n 'Designing',\n 'Assessment',\n 'Appeal',\n 'Audits',\n 'States',\n 'Would',\n 'Identifying',\n 'Success',\n 'Ensure',\n 'Salary:',\n 'Not',\n 'Disclosed',\n 'Recruiter',\n 'Industry:',\n 'Banking',\n 'Financial',\n 'Services',\n 'Broking',\n 'Functional',\n 'Area:',\n 'Accounts',\n 'Finance',\n 'Tax',\n 'Company',\n 'Secretary',\n 'Audit',\n 'Role',\n 'Category:Accounts',\n 'Role:Taxation(Indirect)',\n 'Manager',\n 'Keyskills',\n 'Service',\n 'Tax',\n 'Matters',\n 'Central',\n 'Excise',\n 'Customs',\n 'Audit',\n 'Indirect',\n 'Taxation',\n 'Auditing',\n 'Export',\n 'Tax',\n 'Planning',\n 'Excise',\n 'Service',\n 'Tax',\n 'Sales',\n 'Tax',\n 'Desired',\n 'Candidate',\n 'Profile',\n 'Requirements',\n 'Qualified',\n 'C.A.',\n 'Good',\n 'Expertise',\n 'Indirect',\n 'Taxes',\n 'Indian',\n 'Experience',\n 'Excise,',\n 'Customs,',\n 'Service',\n 'Tax,',\n 'Sales',\n 'Tax',\n 'Ability',\n 'Superior',\n 'Superior',\n 'Presentation',\n 'Ability',\n 'Jyoti',\n 'Education-',\n 'Any',\n 'Graduate',\n 'Any',\n 'Specialization',\n 'Doctorate:Doctorate',\n 'Not',\n 'Required',\n 'Company',\n 'Profile:',\n 'Onboard',\n 'Leading',\n 'Client',\n 'Onboard',\n 'Download',\n 'Photo',\n 'View',\n 'Contact',\n 'Details\"\\t81016900536\\t\"Mumbai,',\n 'Bengaluru,',\n 'Kolkata,',\n 'Chennai,',\n 'Coimbatore,',\n 'Indirect',\n 'Tax',\n 'Disclosed',\n 'Recruiter\\t2016-10-13',\n 'Technologies',\n 'Solutions',\n 'Pvt.',\n 'B.Tech/B.E.',\n 'Any',\n 'Specialization',\n 'Postgraduate',\n 'Any',\n 'Specialization,',\n 'Computers,',\n 'M.Tech',\n 'Any',\n 'Specialization',\n 'Doctorate:Any',\n 'Doctorate',\n 'Any',\n 'Specialization\"\\t6',\n 'Software',\n 'Services\\t\"Job',\n 'Description',\n 'Send',\n 'Jobs',\n 'Please',\n 'Resume',\n 'Strong',\n 'Data',\n 'Structures,',\n 'Algorithms,',\n 'Design',\n 'Patterns',\n 'Web',\n 'Scripting:',\n 'Angular',\n 'Knockout',\n 'Meteor',\n 'Software',\n 'Experience',\n 'Knowledge',\n 'Open',\n 'Source',\n 'Git)',\n 'Experience',\n 'Experience',\n 'Tomcat.',\n 'Ability',\n 'Agile',\n 'Salary:',\n 'Not',\n 'Disclosed',\n 'Recruiter',\n 'Industry:',\n 'Software',\n 'Services',\n 'Functional',\n 'Area:',\n 'Software',\n 'Application',\n 'Programming',\n 'Maintenance',\n 'Role',\n 'Category:Programming',\n 'Design',\n 'Role:Team',\n 'Lead/Technical',\n 'Lead',\n 'Keyskills',\n 'Javascript',\n 'Java',\n 'Tomcat',\n 'Rest',\n 'Web',\n 'Services',\n 'Desired',\n 'Candidate',\n 'Profile',\n 'Education',\n 'Qualification-',\n 'Premier',\n 'Institute.Experience',\n 'Location:',\n 'Location',\n 'Area:',\n 'Software',\n 'Application',\n 'Programming,',\n 'Category:',\n 'Programming',\n 'Tech',\n 'Lead***Note',\n 'Pay',\n 'Education-',\n 'B.Tech/B.E.',\n 'Any',\n 'Specialization',\n 'Postgraduate',\n 'Any',\n 'Specialization,',\n 'Computers,',\n 'M.Tech',\n 'Any',\n 'Specialization',\n 'Doctorate:Any',\n 'Doctorate',\n 'Any',\n 'Specialization',\n 'Company',\n 'Profile:',\n 'Spire',\n 'Technologies',\n 'Solutions',\n 'Pvt.',\n 'Ltd.',\n 'Spire',\n 'Spire',\n 'We',\n 'Spire',\n 'Big',\n 'Data',\n 'Towards',\n 'We',\n 'Spire',\n 'Big',\n 'Data',\n 'At',\n 'Spire,',\n 'Spire',\n 'Technologies',\n 'Times',\n 'Ascent.',\n 'Work',\n 'The',\n 'Spire',\n 'We',\n 'We',\n 'At',\n 'Spire,',\n 'Career',\n 'Come',\n 'Spire!',\n 'Download',\n 'Photo',\n 'View',\n 'Contact',\n 'Technical',\n 'Lead',\n '-\\t4\\tNot',\n 'Disclosed',\n 'Recruiter\\t2016-10-13',\n 'Software',\n 'Application',\n 'Web',\n 'Global',\n 'Services',\n 'Pvt',\n 'B.Tech/B.E.',\n 'Any',\n 'Specialization',\n 'Computers,',\n 'M.Tech',\n 'Any',\n 'Specialization,',\n 'Computers,',\n 'Any',\n 'Specialization\"\\t2',\n 'Software',\n 'Services\\t\"Job',\n 'Description',\n 'Send',\n 'Jobs',\n 'We',\n 'Edwards',\n 'Worldsoft',\n 'Developer',\n 'Job',\n 'Details:',\n 'Expertise',\n 'Good',\n 'Knowledge',\n 'Knowledge',\n 'Excellent',\n 'Interested',\n 'Oct',\n 'Venue',\n 'Details:',\n 'Revtech',\n 'Solutions',\n 'India',\n 'Private',\n 'Limited,',\n 'Prestige',\n 'Al',\n 'Kareem',\n 'Building,',\n 'Floor,',\n 'Edward',\n 'Road,',\n 'Queens',\n 'Road,',\n 'Bangalore',\n 'Landmark',\n 'Next',\n 'Shivajinagar',\n 'Indian',\n 'Express',\n 'Signal',\n 'Queens',\n 'Road',\n 'Opposite',\n 'Restaurant',\n 'Road',\n 'Note:',\n 'Queens',\n 'If',\n 'Cunningham',\n 'Take',\n 'Right',\n 'Come',\n 'Edward',\n 'Restaurant',\n 'Please',\n 'Kindly',\n 'Please',\n 'Note',\n 'Kindly',\n 'Business',\n 'Casuals.',\n 'Salary:',\n 'Not',\n 'Disclosed',\n 'Recruiter',\n 'Industry:',\n 'Software',\n 'Services',\n 'Functional',\n 'Area:',\n 'Software',\n 'Application',\n 'Programming',\n 'Maintenance',\n 'Role',\n 'Category:Programming',\n 'Design',\n 'Role:Software',\n 'Developer',\n 'Keyskills',\n 'Edwards',\n 'Desired',\n 'Candidate',\n 'Profile',\n 'Please',\n 'Job',\n 'Education-',\n 'B.Tech/B.E.',\n 'Any',\n 'Specialization',\n 'Computers,',\n 'M.Tech',\n 'Any',\n 'Specialization,',\n 'Computers,',\n 'Any',\n 'Specialization',\n 'Company',\n 'Profile:',\n 'Web',\n 'Global',\n 'Services',\n 'Pvt',\n 'Ltd',\n 'A',\n 'Global',\n 'Commerce',\n 'Service',\n 'Provider,',\n 'We',\n 'We',\n 'Commerce',\n 'Without',\n 'Compromise',\n 'Specialties',\n 'Strategic',\n 'Commerce',\n 'Consulting,',\n 'Agency',\n 'Services,',\n 'Technology',\n 'Services,',\n 'Omni-Channel',\n 'Operations,',\n 'Technology',\n 'Ecosystem,',\n 'Global',\n 'Expansion',\n 'Download',\n 'Photo',\n 'View',\n 'Contact',\n 'As400',\n 'Developer',\n 'Pfsweb',\n 'Global',\n 'Services',\n 'Disclosed',\n 'Recruiter\\t2016-10-13',\n 'Software',\n 'Application',\n 'Management',\n 'Consultant',\n 'Pvt.',\n 'Ltd\\t\\t1',\n 'Software',\n 'Services\\t\"Job',\n 'Description',\n 'Send',\n 'Jobs',\n 'Develop',\n 'Web',\n 'Application',\n 'Handson',\n 'Perl,',\n 'Python,',\n 'Ajax',\n 'Strong',\n 'P.A',\n 'Industry:',\n 'Software',\n 'Services',\n 'Functional',\n 'Area:',\n 'Software',\n 'Application',\n 'Programming',\n 'Maintenance',\n 'Role',\n 'Category:Programming',\n 'Design',\n 'Role:Software',\n 'Developer',\n 'Keyskills',\n 'Ajax',\n 'Python',\n 'Web',\n 'Application',\n 'Development',\n 'Perl',\n 'Web',\n 'Technologies',\n 'Web',\n 'Services',\n 'Desired',\n 'Candidate',\n 'Profile',\n 'Working',\n 'Facebook,',\n 'Twitter',\n 'Google',\n 'Create',\n 'Familiar',\n 'Angular,',\n 'React,',\n 'Ember',\n 'Backbone',\n 'Troubleshoot,',\n 'Company',\n 'Profile:',\n 'Kinesis',\n 'Management',\n 'Consultant',\n 'Pvt.',\n 'Ltd',\n 'Large',\n 'It',\n 'Company',\n 'Design,',\n 'Analyze',\n 'Download',\n 'Photo',\n 'View',\n 'Contact',\n 'Details\"\\t1.31E+11\\t\"Delhi',\n 'Mumbai,',\n 'Bengaluru,',\n 'Kochi,',\n 'Greater',\n 'Noida,',\n 'Gurgaon,',\n 'Hyderabad,',\n 'Kozhikode,',\n 'Developer\\t2\\t\"3,00,000',\n 'P.A\"\\t2016-10-13',\n 'Software',\n 'Application',\n 'Pvt.',\n 'Ltd.',\n 'Rossell',\n 'Techsys,',\n 'Diploma',\n 'Any',\n 'Specialization,',\n 'Electrical,',\n 'Electronics/Telecommunication\"\\t2',\n 'Aerospace',\n 'Firms\\t\"Job',\n 'Description',\n 'Send',\n 'Jobs',\n 'Job',\n 'Description',\n 'Member',\n 'Technical',\n 'Wire',\n 'Harness',\n 'Fabrication',\n 'Position',\n 'Introduction:',\n 'Rossell',\n 'Techsys',\n 'Aerospace',\n 'Defence',\n '(A&D)',\n 'Division',\n 'Rossell',\n 'India',\n 'Limited',\n 'Rossell',\n 'Techsys',\n 'India',\n 'Bangalore.Rossell',\n 'Techsys',\n 'Indian',\n 'Aerospace',\n 'Defence',\n 'Industry,',\n 'India.',\n 'Rossell',\n 'Techsys',\n 'Custom',\n 'Test',\n 'Wire',\n 'Product',\n 'Support',\n 'Services.',\n 'Rossell',\n 'Techsys',\n 'Rev',\n 'C',\n 'Rossell',\n 'Techsys',\n 'Positions:',\n 'This',\n 'Member',\n 'Staff',\n 'Qualifications',\n 'Credentials:',\n 'Candidates',\n 'Diploma',\n 'Electronics',\n 'Given',\n 'Rossell',\n 'A',\n 'Candidates',\n 'Candidate',\n 'Technical',\n 'Requirements:',\n 'Mandatory',\n 'Primary',\n 'Skills',\n 'Hands',\n 'Connectorisation,',\n 'Knowledge',\n 'Experience',\n 'Aircraft',\n 'Looms',\n 'Knowledge',\n 'Wire',\n 'Harness',\n 'In',\n 'Inspection',\n 'A',\n 'Must',\n 'Experience',\n 'As',\n 'Secondary',\n 'Skills',\n 'Domain',\n 'Aviation',\n 'Defense',\n 'Mechanical',\n 'A',\n 'Yet',\n 'Personality',\n 'Requirements:',\n 'Candidate',\n 'Must',\n 'Compensation:',\n 'Selected',\n 'Candidates',\n 'Joining',\n 'Time:',\n 'Selected',\n 'Candidates',\n 'References:',\n 'Selected',\n 'Candidates',\n 'Salary:',\n 'Not',\n 'Disclosed',\n 'Recruiter',\n 'Industry:',\n 'Aviation',\n 'Aerospace',\n ...]"
                    },
                    "execution_count": 885,
                    "metadata": {},
                    "output_type": "execute_result"
                }
            ],
            "source": "[w for w in Test_data_Space if w.istitle()]"
        },
        {
            "cell_type": "code",
            "execution_count": 918,
            "metadata": {},
            "outputs": [
                {
                    "data": {
                        "text/plain": "235668"
                    },
                    "execution_count": 918,
                    "metadata": {},
                    "output_type": "execute_result"
                }
            ],
            "source": "len(set(Test_data_Space))"
        },
        {
            "cell_type": "code",
            "execution_count": 928,
            "metadata": {},
            "outputs": [
                {
                    "data": {
                        "text/plain": "203318"
                    },
                    "execution_count": 928,
                    "metadata": {},
                    "output_type": "execute_result"
                }
            ],
            "source": "len(set([w.lower() for w in Test_data_Space]))"
        },
        {
            "cell_type": "code",
            "execution_count": 711,
            "metadata": {},
            "outputs": [],
            "source": "Occurances=FreqDist(Test_data)"
        },
        {
            "cell_type": "code",
            "execution_count": 945,
            "metadata": {},
            "outputs": [
                {
                    "name": "stdout",
                    "output_type": "stream",
                    "text": "Numner of opening for Data Eng 0\n"
                }
            ],
            "source": "print(\"Numner of opening for\",JobTitle,Occurances[JobTitle])\n"
        },
        {
            "cell_type": "code",
            "execution_count": 949,
            "metadata": {},
            "outputs": [
                {
                    "name": "stdout",
                    "output_type": "stream",
                    "text": "Number of opening for you Skills Programming 0\n"
                }
            ],
            "source": "print(\"Number of opening for you Skills\",Skills,Occurances[Skills])"
        },
        {
            "cell_type": "code",
            "execution_count": 953,
            "metadata": {},
            "outputs": [
                {
                    "name": "stdout",
                    "output_type": "stream",
                    "text": "Number of opening in your desired Location Mumbai 0\n"
                }
            ],
            "source": "print(\"Number of opening in your desired Location\",Location,Occurances[Location])"
        },
        {
            "cell_type": "code",
            "execution_count": 721,
            "metadata": {},
            "outputs": [
                {
                    "name": "stdout",
                    "output_type": "stream",
                    "text": "Number of opening in your desired Location 0\n"
                }
            ],
            "source": "print(\"Number of opening in your desired Location\",Occurances[\"PHP Developer\"])"
        },
        {
            "cell_type": "code",
            "execution_count": 539,
            "metadata": {},
            "outputs": [],
            "source": "Skills_Check=nltk.Text(nltk.word_tokenize(text))"
        },
        {
            "cell_type": "code",
            "execution_count": 565,
            "metadata": {},
            "outputs": [
                {
                    "name": "stderr",
                    "output_type": "stream",
                    "text": "IOPub data rate exceeded.\nThe notebook server will temporarily stop sending output\nto the client in order to avoid crashing it.\nTo change this limit, set the config variable\n`--NotebookApp.iopub_data_rate_limit`.\n\nCurrent values:\nNotebookApp.iopub_data_rate_limit=1000000.0 (bytes/sec)\nNotebookApp.rate_limit_window=3.0 (secs)\n\n"
                }
            ],
            "source": "Skills_Check_1=Skills_Check.findall(r'M*')\n\nSkills_Check_1"
        },
        {
            "cell_type": "code",
            "execution_count": null,
            "metadata": {},
            "outputs": [],
            "source": ""
        },
        {
            "cell_type": "code",
            "execution_count": 581,
            "metadata": {},
            "outputs": [
                {
                    "name": "stdout",
                    "output_type": "stream",
                    "text": "[]\n"
                }
            ],
            "source": "#nltk.Text(nps_chat.open(\"TestMail1.txt\"))\n\nwords_with_end_ed=[w for w in Skills_Check if re.search('$Learning$',w)]\n\nprint(words_with_end_ed)"
        },
        {
            "cell_type": "code",
            "execution_count": 634,
            "metadata": {},
            "outputs": [
                {
                    "name": "stdout",
                    "output_type": "stream",
                    "text": "[nltk_data] Error loading punkt: <urlopen error [Errno 110] Connection\n[nltk_data]     timed out>\n"
                }
            ],
            "source": "#Download punkt package, used part of the other commands\nnltk.download('punkt')\n\nfrom nltk.corpus.reader.plaintext import PlaintextCorpusReader\n\n"
        },
        {
            "cell_type": "code",
            "execution_count": 651,
            "metadata": {},
            "outputs": [],
            "source": "#Read the file into a corpus. The same command can read an entire directory\ncorpus=PlaintextCorpusReader(os.getcwd(),\"naukri_com-job_sample_text.txt\",encoding='latin-1')\n\n#Print raw contents of the corpus\n#print(corpus.raw())"
        },
        {
            "cell_type": "code",
            "execution_count": 655,
            "metadata": {},
            "outputs": [
                {
                    "name": "stdout",
                    "output_type": "stream",
                    "text": "Files in this corpus :  ['naukri_com-job_sample_text.txt']\n\n Total paragraphs in this corpus :  1\n\n Total sentences in this corpus :  222243\n\n The first sentence :  ['company', 'education', 'experience', 'industry', 'jobdescription', 'jobid', 'joblocation_address', 'jobtitle', 'numberofpositions', 'payrate', 'postdate', 'site_name', 'skills', 'uniq_id', 'MM', 'Media', 'Pvt', 'Ltd', '\"', 'UG', ':', 'B', '.', 'Tech', '/', 'B', '.', 'E', '.']\n\n Words in this corpus :  ['company', 'education', 'experience', 'industry', ...]\n"
                }
            ],
            "source": "#Extract the file IDs from the corpus\nprint(\"Files in this corpus : \", corpus.fileids())\n\n#Extract paragraphs from the corpus\nparagraphs=corpus.paras()\nprint(\"\\n Total paragraphs in this corpus : \", len(paragraphs))\n\n#Extract sentences from the corpus\nsentences=corpus.sents()\nprint(\"\\n Total sentences in this corpus : \", len(sentences))\nprint(\"\\n The first sentence : \", sentences[0])\n\n#Extract words from the corpus\nprint(\"\\n Words in this corpus : \",corpus.words() )"
        },
        {
            "cell_type": "code",
            "execution_count": 659,
            "metadata": {},
            "outputs": [
                {
                    "name": "stdout",
                    "output_type": "stream",
                    "text": "Top 10 words in the corpus :  [(',', 410364), ('.', 346587), (':', 343937), ('-', 316837), ('and', 206346), ('/', 189231), ('Any', 137725), ('the', 121633), ('to', 119715), ('of', 115867)]\n\n Distribution for \"Spark\" :  133\n"
                }
            ],
            "source": "#Find the frequency distribution of words in the corpus\ncourse_freq_dist=nltk.FreqDist(corpus.words())\n\n#Print most commonly used words\nprint(\"Top 10 words in the corpus : \", course_freq_dist.most_common(10))\n\n#find the distribution for a specific word\nprint(\"\\n Distribution for \\\"Spark\\\" : \",course_freq_dist.get(\"Spark\"))"
        },
        {
            "cell_type": "code",
            "execution_count": 731,
            "metadata": {},
            "outputs": [
                {
                    "name": "stdout",
                    "output_type": "stream",
                    "text": "\n Distribution for \"Spark\" :  121\n"
                }
            ],
            "source": "#find the distribution for a specific word\nprint(\"\\n Distribution for \\\"Spark\\\" : \",course_freq_dist.get(\"Tableau\"))"
        },
        {
            "cell_type": "code",
            "execution_count": 1178,
            "metadata": {},
            "outputs": [],
            "source": "MandateSkills=\"Tableau,QlikView\""
        },
        {
            "cell_type": "code",
            "execution_count": 1051,
            "metadata": {},
            "outputs": [
                {
                    "ename": "AttributeError",
                    "evalue": "'str' object has no attribute 'difference'",
                    "output_type": "error",
                    "traceback": [
                        "\u001b[0;31m---------------------------------------------------------------------------\u001b[0m",
                        "\u001b[0;31mAttributeError\u001b[0m                            Traceback (most recent call last)",
                        "\u001b[0;32m<ipython-input-1051-082b0c425e9e>\u001b[0m in \u001b[0;36m<module>\u001b[0;34m()\u001b[0m\n\u001b[0;32m----> 1\u001b[0;31m \u001b[0mtest2\u001b[0m\u001b[0;34m.\u001b[0m\u001b[0mdifference\u001b[0m\u001b[0;34m(\u001b[0m\u001b[0mtest1\u001b[0m\u001b[0;34m)\u001b[0m\u001b[0;34m\u001b[0m\u001b[0m\n\u001b[0m",
                        "\u001b[0;31mAttributeError\u001b[0m: 'str' object has no attribute 'difference'"
                    ]
                }
            ],
            "source": "test2.difference(test1)\n"
        },
        {
            "cell_type": "code",
            "execution_count": 1054,
            "metadata": {},
            "outputs": [],
            "source": "    text_vocab=set([w.lower() for w in test1 if w.isalpha()])\n    english_vocab=set([w.lower() for w in test2 if nltk.corpus.words.words()])\n    unusual_vocab=text_vocab.difference(english_vocab)"
        },
        {
            "cell_type": "code",
            "execution_count": 1058,
            "metadata": {},
            "outputs": [
                {
                    "data": {
                        "text/plain": "{'h', 'n', 'o', 'p', 'r', 'y'}"
                    },
                    "execution_count": 1058,
                    "metadata": {},
                    "output_type": "execute_result"
                }
            ],
            "source": "unusual_vocab\n"
        },
        {
            "cell_type": "code",
            "execution_count": null,
            "metadata": {},
            "outputs": [],
            "source": "pip install fuzzywuzzypip install python-Levenshtein"
        },
        {
            "cell_type": "code",
            "execution_count": 1077,
            "metadata": {},
            "outputs": [
                {
                    "name": "stdout",
                    "output_type": "stream",
                    "text": "\nThe following command must be run outside of the IPython shell:\n\n    $ pip install fuzzywuzzypip\n\nThe Python package manager (pip) can only be used from outside of IPython.\nPlease reissue the `pip` command in a separate terminal or command prompt.\n\nSee the Python documentation for more information on how to install packages:\n\n    https://docs.python.org/3/installing/\n"
                }
            ],
            "source": "pip install fuzzywuzzypip"
        },
        {
            "cell_type": "code",
            "execution_count": 1089,
            "metadata": {},
            "outputs": [
                {
                    "ename": "SyntaxError",
                    "evalue": "invalid syntax (<ipython-input-1089-214b7893e3c1>, line 2)",
                    "output_type": "error",
                    "traceback": [
                        "\u001b[0;36m  File \u001b[0;32m\"<ipython-input-1089-214b7893e3c1>\"\u001b[0;36m, line \u001b[0;32m2\u001b[0m\n\u001b[0;31m    import python-Levenshtein\u001b[0m\n\u001b[0m                 ^\u001b[0m\n\u001b[0;31mSyntaxError\u001b[0m\u001b[0;31m:\u001b[0m invalid syntax\n"
                    ]
                }
            ],
            "source": "import fuzzywuzzy\nimport python-Levenshtein"
        },
        {
            "cell_type": "code",
            "execution_count": 1093,
            "metadata": {},
            "outputs": [],
            "source": "from fuzzywuzzy import fuzz\nfrom fuzzywuzzy import process"
        },
        {
            "cell_type": "code",
            "execution_count": 1104,
            "metadata": {},
            "outputs": [
                {
                    "data": {
                        "text/plain": "94"
                    },
                    "execution_count": 1104,
                    "metadata": {},
                    "output_type": "execute_result"
                }
            ],
            "source": "fuzz.ratio(\"Catherine M Gitau\",\"Catherine Gitau\")\n"
        },
        {
            "cell_type": "code",
            "execution_count": 1108,
            "metadata": {},
            "outputs": [
                {
                    "data": {
                        "text/plain": "80"
                    },
                    "execution_count": 1108,
                    "metadata": {},
                    "output_type": "execute_result"
                }
            ],
            "source": "fuzz.partial_ratio(\"Catherine M. Gitau\",\"Catherine Gitau\")"
        },
        {
            "cell_type": "code",
            "execution_count": 1214,
            "metadata": {},
            "outputs": [
                {
                    "data": {
                        "text/plain": "94"
                    },
                    "execution_count": 1214,
                    "metadata": {},
                    "output_type": "execute_result"
                }
            ],
            "source": "fuzz.partial_ratio(MandateSkills,Skills)"
        },
        {
            "cell_type": "code",
            "execution_count": 1223,
            "metadata": {},
            "outputs": [
                {
                    "data": {
                        "text/plain": "94"
                    },
                    "execution_count": 1223,
                    "metadata": {},
                    "output_type": "execute_result"
                }
            ],
            "source": "fuzz.token_sort_ratio(MandateSkills,Skills)"
        },
        {
            "cell_type": "markdown",
            "metadata": {},
            "source": "# Matching Skills and Mandata Skills"
        },
        {
            "cell_type": "code",
            "execution_count": 1245,
            "metadata": {},
            "outputs": [
                {
                    "name": "stdout",
                    "output_type": "stream",
                    "text": "The shape: 21996 x 5\n"
                },
                {
                    "data": {
                        "text/html": "<div>\n<style scoped>\n    .dataframe tbody tr th:only-of-type {\n        vertical-align: middle;\n    }\n\n    .dataframe tbody tr th {\n        vertical-align: top;\n    }\n\n    .dataframe thead th {\n        text-align: right;\n    }\n</style>\n<table border=\"1\" class=\"dataframe\">\n  <thead>\n    <tr style=\"text-align: right;\">\n      <th></th>\n      <th>company</th>\n      <th>experience</th>\n      <th>industry</th>\n      <th>joblocation_address</th>\n      <th>skills</th>\n    </tr>\n  </thead>\n  <tbody>\n    <tr>\n      <th>0</th>\n      <td>MM Media Pvt Ltd</td>\n      <td>0 - 1 yrs</td>\n      <td>Media / Entertainment / Internet</td>\n      <td>Chennai</td>\n      <td>ITES</td>\n    </tr>\n    <tr>\n      <th>1</th>\n      <td>find live infotech</td>\n      <td>0 - 0 yrs</td>\n      <td>Advertising / PR / MR / Event Management</td>\n      <td>Chennai</td>\n      <td>Marketing</td>\n    </tr>\n    <tr>\n      <th>2</th>\n      <td>Softtech Career Infosystem Pvt. Ltd</td>\n      <td>4 - 8 yrs</td>\n      <td>IT-Software / Software Services</td>\n      <td>Bengaluru</td>\n      <td>IT Software - Application Programming</td>\n    </tr>\n    <tr>\n      <th>3</th>\n      <td>Onboard HRServices LLP</td>\n      <td>11 - 15 yrs</td>\n      <td>Banking / Financial Services / Broking</td>\n      <td>Mumbai, Bengaluru, Kolkata, Chennai, Coimbatore, Tamilnadu</td>\n      <td>Accounts</td>\n    </tr>\n    <tr>\n      <th>4</th>\n      <td>Spire Technologies and Solutions Pvt. Ltd.</td>\n      <td>6 - 8 yrs</td>\n      <td>IT-Software / Software Services</td>\n      <td>Bengaluru</td>\n      <td>IT Software - Application Programming</td>\n    </tr>\n  </tbody>\n</table>\n</div>",
                        "text/plain": "                                      company   experience  \\\n0  MM Media Pvt Ltd                            0 - 1 yrs     \n1  find live infotech                          0 - 0 yrs     \n2  Softtech Career Infosystem Pvt. Ltd         4 - 8 yrs     \n3  Onboard HRServices LLP                      11 - 15 yrs   \n4  Spire Technologies and Solutions Pvt. Ltd.  6 - 8 yrs     \n\n                                   industry  \\\n0  Media / Entertainment / Internet           \n1  Advertising / PR / MR / Event Management   \n2  IT-Software / Software Services            \n3  Banking / Financial Services / Broking     \n4  IT-Software / Software Services            \n\n                                          joblocation_address  \\\n0  Chennai                                                      \n1  Chennai                                                      \n2  Bengaluru                                                    \n3  Mumbai, Bengaluru, Kolkata, Chennai, Coimbatore, Tamilnadu   \n4  Bengaluru                                                    \n\n                                  skills  \n0  ITES                                   \n1  Marketing                              \n2  IT Software - Application Programming  \n3  Accounts                               \n4  IT Software - Application Programming  "
                    },
                    "execution_count": 1245,
                    "metadata": {},
                    "output_type": "execute_result"
                }
            ],
            "source": "import pandas as pd\n\npd.set_option('display.max_colwidth', -1)\nNaukri =  pd.read_csv('Naukri-Domain&Skillset.csv')\nprint('The shape: %d x %d' % Naukri.shape)\nNaukri.head()\n"
        },
        {
            "cell_type": "code",
            "execution_count": 1306,
            "metadata": {},
            "outputs": [
                {
                    "name": "stdout",
                    "output_type": "stream",
                    "text": "All 3-grams IT Software:\n"
                },
                {
                    "data": {
                        "text/plain": "['IT S', 'T So', ' Sof', 'Soft', 'oftw', 'ftwa', 'twar', 'ware']"
                    },
                    "execution_count": 1306,
                    "metadata": {},
                    "output_type": "execute_result"
                }
            ],
            "source": "import re\n\ndef ngrams(string, n=4):\n    string = re.sub(r'[,-./]|\\sBD',r'', string)\n    ngrams = zip(*[string[i:] for i in range(n)])\n    return [''.join(ngram) for ngram in ngrams]\n\nprint('All 3-grams IT Software:')\nngrams('IT Software')\n"
        },
        {
            "cell_type": "code",
            "execution_count": 1278,
            "metadata": {},
            "outputs": [],
            "source": "Naukri=Naukri[Naukri['skills'].notnull()]"
        },
        {
            "cell_type": "code",
            "execution_count": 1282,
            "metadata": {},
            "outputs": [],
            "source": "from sklearn.feature_extraction.text import TfidfVectorizer\n\nSkills = Naukri['skills']\nvectorizer = TfidfVectorizer(min_df=1, analyzer=ngrams)\ntf_idf_matrix = vectorizer.fit_transform(Skills)\n"
        },
        {
            "cell_type": "code",
            "execution_count": 1311,
            "metadata": {},
            "outputs": [
                {
                    "name": "stdout",
                    "output_type": "stream",
                    "text": "  (0, 67)\t0.7071067811865475\n  (0, 93)\t0.7071067811865475\n"
                },
                {
                    "data": {
                        "text/plain": "['Data']"
                    },
                    "execution_count": 1311,
                    "metadata": {},
                    "output_type": "execute_result"
                }
            ],
            "source": "print(tf_idf_matrix[0])\n\n# Check if this makes sense:\n\nngrams('Data')\n"
        },
        {
            "cell_type": "markdown",
            "metadata": {},
            "source": "# Cosine Similarity"
        },
        {
            "cell_type": "code",
            "execution_count": 1334,
            "metadata": {},
            "outputs": [
                {
                    "name": "stdout",
                    "output_type": "stream",
                    "text": "Defaulting to user installation because normal site-packages is not writeable\n\u001b[33mWARNING: Retrying (Retry(total=4, connect=None, read=None, redirect=None, status=None)) after connection broken by 'ConnectTimeoutError(<pip._vendor.urllib3.connection.VerifiedHTTPSConnection object at 0x7fb7d417bf28>, 'Connection to pypi.org timed out. (connect timeout=15)')': /simple/sparse-dot-topn/\u001b[0m\n\u001b[33mWARNING: Retrying (Retry(total=3, connect=None, read=None, redirect=None, status=None)) after connection broken by 'ConnectTimeoutError(<pip._vendor.urllib3.connection.VerifiedHTTPSConnection object at 0x7fb7d417b320>, 'Connection to pypi.org timed out. (connect timeout=15)')': /simple/sparse-dot-topn/\u001b[0m\n\u001b[33mWARNING: Retrying (Retry(total=2, connect=None, read=None, redirect=None, status=None)) after connection broken by 'ConnectTimeoutError(<pip._vendor.urllib3.connection.VerifiedHTTPSConnection object at 0x7fb7d417b828>, 'Connection to pypi.org timed out. (connect timeout=15)')': /simple/sparse-dot-topn/\u001b[0m\n\u001b[33mWARNING: Retrying (Retry(total=1, connect=None, read=None, redirect=None, status=None)) after connection broken by 'ConnectTimeoutError(<pip._vendor.urllib3.connection.VerifiedHTTPSConnection object at 0x7fb7d417b7b8>, 'Connection to pypi.org timed out. (connect timeout=15)')': /simple/sparse-dot-topn/\u001b[0m\n\u001b[33mWARNING: Retrying (Retry(total=0, connect=None, read=None, redirect=None, status=None)) after connection broken by 'ConnectTimeoutError(<pip._vendor.urllib3.connection.VerifiedHTTPSConnection object at 0x7fb7d417bdd8>, 'Connection to pypi.org timed out. (connect timeout=15)')': /simple/sparse-dot-topn/\u001b[0m\n\u001b[31mERROR: Could not find a version that satisfies the requirement sparse_dot_topn (from versions: none)\u001b[0m\n\u001b[31mERROR: No matching distribution found for sparse_dot_topn\u001b[0m\n"
                }
            ],
            "source": "!pip install sparse_dot_topn"
        },
        {
            "cell_type": "code",
            "execution_count": 1340,
            "metadata": {},
            "outputs": [
                {
                    "ename": "ImportError",
                    "evalue": "No module named 'sparse_dot_topn'",
                    "output_type": "error",
                    "traceback": [
                        "\u001b[0;31m---------------------------------------------------------------------------\u001b[0m",
                        "\u001b[0;31mImportError\u001b[0m                               Traceback (most recent call last)",
                        "\u001b[0;32m<ipython-input-1340-c86c16959d10>\u001b[0m in \u001b[0;36m<module>\u001b[0;34m()\u001b[0m\n\u001b[1;32m      1\u001b[0m \u001b[0;32mimport\u001b[0m \u001b[0mnumpy\u001b[0m \u001b[0;32mas\u001b[0m \u001b[0mnp\u001b[0m\u001b[0;34m\u001b[0m\u001b[0m\n\u001b[1;32m      2\u001b[0m \u001b[0;32mfrom\u001b[0m \u001b[0mscipy\u001b[0m\u001b[0;34m.\u001b[0m\u001b[0msparse\u001b[0m \u001b[0;32mimport\u001b[0m \u001b[0mcsr_matrix\u001b[0m\u001b[0;34m\u001b[0m\u001b[0m\n\u001b[0;32m----> 3\u001b[0;31m \u001b[0;32mimport\u001b[0m \u001b[0msparse_dot_topn\u001b[0m\u001b[0;34m.\u001b[0m\u001b[0msparse_dot_topn\u001b[0m \u001b[0;32mas\u001b[0m \u001b[0mct\u001b[0m\u001b[0;34m\u001b[0m\u001b[0m\n\u001b[0m\u001b[1;32m      4\u001b[0m \u001b[0;34m\u001b[0m\u001b[0m\n\u001b[1;32m      5\u001b[0m \u001b[0;32mdef\u001b[0m \u001b[0mawesome_cossim_top\u001b[0m\u001b[0;34m(\u001b[0m\u001b[0mA\u001b[0m\u001b[0;34m,\u001b[0m \u001b[0mB\u001b[0m\u001b[0;34m,\u001b[0m \u001b[0mntop\u001b[0m\u001b[0;34m,\u001b[0m \u001b[0mlower_bound\u001b[0m\u001b[0;34m=\u001b[0m\u001b[0;36m0\u001b[0m\u001b[0;34m)\u001b[0m\u001b[0;34m:\u001b[0m\u001b[0;34m\u001b[0m\u001b[0m\n",
                        "\u001b[0;31mImportError\u001b[0m: No module named 'sparse_dot_topn'"
                    ]
                }
            ],
            "source": "import numpy as np\nfrom scipy.sparse import csr_matrix\nimport sparse_dot_topn.sparse_dot_topn as ct\n\ndef awesome_cossim_top(A, B, ntop, lower_bound=0):\n    # force A and B as a CSR matrix.\n    # If they have already been CSR, there is no overhead\n    A = A.tocsr()\n    B = B.tocsr()\n    M, _ = A.shape\n    _, N = B.shape\n \n    idx_dtype = np.int32\n \n    nnz_max = M*ntop\n \n    indptr = np.zeros(M+1, dtype=idx_dtype)\n    indices = np.zeros(nnz_max, dtype=idx_dtype)\n    data = np.zeros(nnz_max, dtype=A.dtype)\n\n    ct.sparse_dot_topn(\n        M, N, np.asarray(A.indptr, dtype=idx_dtype),\n        np.asarray(A.indices, dtype=idx_dtype),\n        A.data,\n        np.asarray(B.indptr, dtype=idx_dtype),\n        np.asarray(B.indices, dtype=idx_dtype),\n        B.data,\n        ntop,\n        lower_bound,\n        indptr, indices, data)\n\n    return csr_matrix((data,indices,indptr),shape=(M,N))\n"
        },
        {
            "cell_type": "code",
            "execution_count": null,
            "metadata": {},
            "outputs": [],
            "source": ""
        }
    ],
    "metadata": {
        "kernelspec": {
            "display_name": "Python 3.6 with Spark",
            "language": "python3",
            "name": "python36"
        },
        "language_info": {
            "codemirror_mode": {
                "name": "ipython",
                "version": 3
            },
            "file_extension": ".py",
            "mimetype": "text/x-python",
            "name": "python",
            "nbconvert_exporter": "python",
            "pygments_lexer": "ipython3",
            "version": "3.6.8"
        }
    },
    "nbformat": 4,
    "nbformat_minor": 2
}